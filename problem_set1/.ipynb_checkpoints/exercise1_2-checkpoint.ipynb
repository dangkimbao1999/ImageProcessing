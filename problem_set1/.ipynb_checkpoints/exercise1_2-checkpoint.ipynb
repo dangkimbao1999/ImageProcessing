{
 "cells": [
  {
   "cell_type": "markdown",
   "metadata": {},
   "source": [
    "For each of the three distance metrics, construct an image in which the value of pixel (i,j) is proportional to the corresponding distance from an arbitrary pixel (io,jo) the coordinates of which are requested as input. For the image constructed using Euclidean distance, define a region R such that all pixels (i,j) $\\in$ R satisfy the distance condition D[(i,j),(i<sup>o</sup>,j<sup>o</sup>)]<d<sup>o</sup>, where do is some reasonable distance. Produce the run-length code for region R (considered as a binary image)"
   ]
  },
  {
   "cell_type": "code",
   "execution_count": 54,
   "metadata": {},
   "outputs": [
    {
     "data": {
      "text/plain": [
       "Text(0.5, 1.0, 'Cityblock')"
      ]
     },
     "execution_count": 54,
     "metadata": {},
     "output_type": "execute_result"
    },
    {
     "data": {
      "image/png": "[encoded data removed]",
      "text/plain": [
       "<Figure size 432x288 with 1 Axes>"
      ]
     },
     "metadata": {
      "needs_background": "light"
     },
     "output_type": "display_data"
    }
   ],
   "source": [
    "import sys\n",
    "import matplotlib.pyplot as plt\n",
    "from PIL import Image, ImageDraw\n",
    "import sys\n",
    "import math\n",
    "c=[16,16]\n",
    "d = 8\n",
    "change = int(256/d);\n",
    "img1 = Image.new(\"RGB\", (32,32),\"white\")\n",
    "width, height = img1.size\n",
    "# cityblock\n",
    "for x in range(height):\n",
    "   for y in range(width):\n",
    "       if(abs(c[0]-x)+abs(c[1]-y) <= d):\n",
    "           proportion = abs(abs(c[0]-x)+abs(c[1]-y) - d)\n",
    "           img1.putpixel((x,y),(change*proportion,change*proportion,change*proportion,0))\n",
    "img1.putpixel((c[0],c[1]),(254,254,254,0))\n",
    "plt.imshow(img1)\n",
    "plt.title('Cityblock')"
   ]
  },
  {
   "cell_type": "code",
   "execution_count": 55,
   "metadata": {},
   "outputs": [
    {
     "data": {
      "text/plain": [
       "Text(0.5, 1.0, 'Euclide')"
      ]
     },
     "execution_count": 55,
     "metadata": {},
     "output_type": "execute_result"
    },
    {
     "data": {
      "image/png": "[encoded data removed]",
      "text/plain": [
       "<Figure size 432x288 with 1 Axes>"
      ]
     },
     "metadata": {
      "needs_background": "light"
     },
     "output_type": "display_data"
    }
   ],
   "source": [
    "# euclide\n",
    "img2 = Image.new(\"RGB\", (32,32),\"white\")\n",
    "for x in range(height):\n",
    "   for y in range(width):\n",
    "       if(round(math.sqrt(pow(c[0]-x,2) + pow(c[1]-y,2)))<=d):\n",
    "           proportion = abs(round(math.sqrt(pow(c[0]-x,2) + pow(c[1]-y,2))) - d)\n",
    "           img2.putpixel((x,y),(change*proportion,change*proportion,change*proportion,0))\n",
    "            \n",
    "img2.putpixel((c[0],c[1]),(254,254,254,0))\n",
    "plt.imshow(img2)\n",
    "plt.title('Euclide')"
   ]
  },
  {
   "cell_type": "code",
   "execution_count": 56,
   "metadata": {},
   "outputs": [
    {
     "data": {
      "text/plain": [
       "Text(0.5, 1.0, 'Chessboard')"
      ]
     },
     "execution_count": 56,
     "metadata": {},
     "output_type": "execute_result"
    },
    {
     "data": {
      "image/png": "[encoded data removed]",
      "text/plain": [
       "<Figure size 432x288 with 1 Axes>"
      ]
     },
     "metadata": {
      "needs_background": "light"
     },
     "output_type": "display_data"
    }
   ],
   "source": [
    "#chessboard\n",
    "img3 = Image.new(\"RGB\", (32,32),\"white\")\n",
    "for x in range(height):\n",
    "    for y in range(width):\n",
    "        if(round(max(abs(c[0]-x),abs(c[1]-y)))<=d):\n",
    "            proportion = abs(max(abs(c[0]-x),abs(c[1]-y)) - d)\n",
    "            img3.putpixel((x,y),(change*proportion,change*proportion,change*proportion,0))\n",
    "img3.putpixel((c[0],c[1]),(254,254,254,0))\n",
    "plt.imshow(img3)\n",
    "plt.title('Chessboard')"
   ]
  },
  {
   "cell_type": "code",
   "execution_count": 57,
   "metadata": {},
   "outputs": [
    {
     "name": "stdout",
     "output_type": "stream",
     "text": [
      "8,14,19\n",
      "9,12,21\n",
      "10,10,23\n",
      "11,10,23\n",
      "12,9,24\n",
      "13,9,24\n",
      "14,8,25\n",
      "15,8,25\n",
      "16,8,25\n",
      "17,8,25\n",
      "18,8,25\n",
      "19,9,24\n",
      "20,9,24\n",
      "21,10,23\n",
      "22,10,23\n",
      "23,12,21\n",
      "24,14,19\n"
     ]
    }
   ],
   "source": [
    "#length-code for the Euclide image\n",
    "img2 = img2.resize((32,32))\n",
    "def run_length():\n",
    "    inValue = 0;\n",
    "    arr = []\n",
    "    for y in range(32):\n",
    "        for x in range(32):\n",
    "            r,g,b = img2.getpixel((x,y))\n",
    "            if( r == g == b != 255 and inValue == 0):\n",
    "                inValue = 1\n",
    "                startX = x\n",
    "            elif( r == g == b == 255 and inValue == 1):\n",
    "                inValue = 0\n",
    "                endX = x\n",
    "                print(str(y)+\",\"+str(startX)+\",\"+str(endX))\n",
    "                arr.append((y,startX,endX))\n",
    "                continue\n",
    "    return arr\n",
    "i = 0\n",
    "arr = run_length();"
   ]
  },
  {
   "cell_type": "code",
   "execution_count": 60,
   "metadata": {},
   "outputs": [
    {
     "data": {
      "text/plain": [
       "Text(0.5, 1.0, 'Image from the run-length code')"
      ]
     },
     "execution_count": 60,
     "metadata": {},
     "output_type": "execute_result"
    },
    {
     "data": {
      "image/png": "[encoded data removed]",
      "text/plain": [
       "<Figure size 432x288 with 1 Axes>"
      ]
     },
     "metadata": {
      "needs_background": "light"
     },
     "output_type": "display_data"
    }
   ],
   "source": [
    "#Create image from run length code, a part from exercise 3\n",
    "img = Image.new(\"RGB\", (32,32),\"white\")\n",
    "for i in range(len(arr)):\n",
    "    for x in range(arr[i][1],arr[i][2]):\n",
    "        img.putpixel((x,arr[i][0]),0)\n",
    "plt.imshow(img)\n",
    "img.save('run_length.jpg')\n",
    "plt.title('Image from the run-length code')"
   ]
  },
  {
   "cell_type": "code",
   "execution_count": null,
   "metadata": {},
   "outputs": [],
   "source": []
  }
 ],
 "metadata": {
  "kernelspec": {
   "display_name": "Python 3",
   "language": "python",
   "name": "python3"
  },
  "language_info": {
   "codemirror_mode": {
    "name": "ipython",
    "version": 3
   },
   "file_extension": ".py",
   "mimetype": "text/x-python",
   "name": "python",
   "nbconvert_exporter": "python",
   "pygments_lexer": "ipython3",
   "version": "3.8.7"
  }
 },
 "nbformat": 4,
 "nbformat_minor": 4
}
