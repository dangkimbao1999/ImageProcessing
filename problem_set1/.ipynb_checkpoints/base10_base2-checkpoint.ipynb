{
 "cells": [
  {
   "cell_type": "markdown",
   "metadata": {},
   "source": [
    "Write a program that outputs the base-2 representation of any non-negative base-\n",
    "10 integer provided as input."
   ]
  },
  {
   "cell_type": "code",
   "execution_count": 2,
   "metadata": {},
   "outputs": [
    {
     "name": "stdout",
     "output_type": "stream",
     "text": [
      "Base 10 number: 5\n",
      "Equivalant base 2 number is 101\n"
     ]
    }
   ],
   "source": [
    "base10_number = 5\n",
    "b_string  = bin(base10_number)     \n",
    "b_string =  b_string[2:] \n",
    "\n",
    "print('Base 10 number: '+str(base10_number))\n",
    "print('Equivalant base 2 number is '+str(b_string))\n"
   ]
  }
 ],
 "metadata": {
  "kernelspec": {
   "display_name": "Python 3",
   "language": "python",
   "name": "python3"
  },
  "language_info": {
   "codemirror_mode": {
    "name": "ipython",
    "version": 3
   },
   "file_extension": ".py",
   "mimetype": "text/x-python",
   "name": "python",
   "nbconvert_exporter": "python",
   "pygments_lexer": "ipython3",
   "version": "3.8.7"
  }
 },
 "nbformat": 4,
 "nbformat_minor": 4
}
