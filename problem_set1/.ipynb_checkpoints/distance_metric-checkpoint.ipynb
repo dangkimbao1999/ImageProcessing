{
 "cells": [
  {
   "cell_type": "markdown",
   "metadata": {},
   "source": [
    "Develop an algorithm that constructs a binary image (32 x 32 pixels) in which pixels are \"on\" if they belong to the locus of points a distance d from an arbitrary pixel (io,jo) the coordinates of which are requested as input. Clearly, a closed contour will result. For each of the three distance metrics discussed(Euclidean, \"city block,\" and \"chessboard\"), construct such a binary image that contains such equidistance contours for a range of distances, d. Discuss the appearance of the equidistance contours that result from the three metrics over the range of distances investigated. If the background is considered in 8-connectivity, which metric(s) produces equidistance contours that divide the image plane into two noncontiguous regions?"
   ]
  },
  {
   "cell_type": "code",
   "execution_count": 1,
   "metadata": {},
   "outputs": [],
   "source": [
    "from __future__ import print_function\n",
    "import sys\n",
    "from PIL import Image, ImageDraw\n",
    "import sys\n",
    "import math\n",
    "import matplotlib.pyplot as plt\n",
    "\n",
    "img = Image.new(\"1\", (32,32),\"white\")\n",
    "width, height = img.size\n",
    "center = sys.argv[0];\n",
    "c=[16,16]\n",
    "d = 8"
   ]
  },
  {
   "cell_type": "code",
   "execution_count": 2,
   "metadata": {},
   "outputs": [
    {
     "data": {
      "text/plain": [
       "Text(0.5, 1.0, 'Euclidean')"
      ]
     },
     "execution_count": 2,
     "metadata": {},
     "output_type": "execute_result"
    },
    {
     "data": {
      "image/png": "[encoded data removed]",
      "text/plain": [
       "<Figure size 432x288 with 1 Axes>"
      ]
     },
     "metadata": {
      "needs_background": "light"
     },
     "output_type": "display_data"
    }
   ],
   "source": [
    "for x in range(height):\n",
    "   for y in range(width):\n",
    "      if(round(math.sqrt(pow(c[0]-x,2) + pow(c[1]-y,2))) <= d):\n",
    "          img.putpixel((x,y),0)\n",
    "\n",
    "plt.imshow(img)\n",
    "plt.title('Euclidean')"
   ]
  },
  {
   "cell_type": "code",
   "execution_count": 3,
   "metadata": {},
   "outputs": [
    {
     "data": {
      "text/plain": [
       "Text(0.5, 1.0, 'Cityblock')"
      ]
     },
     "execution_count": 3,
     "metadata": {},
     "output_type": "execute_result"
    },
    {
     "data": {
      "image/png": "[encoded data removed]",
      "text/plain": [
       "<Figure size 432x288 with 1 Axes>"
      ]
     },
     "metadata": {
      "needs_background": "light"
     },
     "output_type": "display_data"
    }
   ],
   "source": [
    "img = Image.new(\"1\", (32,32),\"white\")\n",
    "for x in range(height):\n",
    "   for y in range(width):\n",
    "       if(abs(c[0]-x)+abs(c[1]-y) <= d):\n",
    "           img.putpixel((x,y),0)\n",
    "plt.imshow(img)\n",
    "plt.title('Cityblock')"
   ]
  },
  {
   "cell_type": "code",
   "execution_count": 4,
   "metadata": {},
   "outputs": [
    {
     "data": {
      "text/plain": [
       "Text(0.5, 1.0, 'Chessboard')"
      ]
     },
     "execution_count": 4,
     "metadata": {},
     "output_type": "execute_result"
    },
    {
     "data": {
      "image/png": "[encoded data removed]",
      "text/plain": [
       "<Figure size 432x288 with 1 Axes>"
      ]
     },
     "metadata": {
      "needs_background": "light"
     },
     "output_type": "display_data"
    }
   ],
   "source": [
    "img = Image.new(\"1\", (32,32),\"white\")\n",
    "for x in range(height):\n",
    "    for y in range(width):\n",
    "        if(max(abs(c[0]-x),abs(c[1]-y)) <= d):\n",
    "            img.putpixel((x,y),0)\n",
    "plt.imshow(img)\n",
    "plt.title('Chessboard')"
   ]
  },
  {
   "cell_type": "markdown",
   "metadata": {},
   "source": [
    "The pixel in each image that is \"on\" if they belong to the locus of point of a distance d using the following metrics \"Euclidean\", \"city block\", and 'chessboard' is respectively circle, rhombus, and rectangle.\n",
    "\n",
    "If the background is in 8-connectivity, all the metrics divide the image plane into two non-contiguous region.\n"
   ]
  }
 ],
 "metadata": {
  "kernelspec": {
   "display_name": "Python 3",
   "language": "python",
   "name": "python3"
  },
  "language_info": {
   "codemirror_mode": {
    "name": "ipython",
    "version": 3
   },
   "file_extension": ".py",
   "mimetype": "text/x-python",
   "name": "python",
   "nbconvert_exporter": "python",
   "pygments_lexer": "ipython3",
   "version": "3.8.7"
  }
 },
 "nbformat": 4,
 "nbformat_minor": 4
}
